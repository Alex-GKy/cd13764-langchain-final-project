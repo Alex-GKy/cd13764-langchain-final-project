{
 "cells": [
  {
   "cell_type": "code",
   "execution_count": 4,
   "id": "initial_id",
   "metadata": {
    "ExecuteTime": {
     "end_time": "2025-07-23T14:39:49.481217Z",
     "start_time": "2025-07-23T14:39:49.478457Z"
    }
   },
   "outputs": [],
   "source": [
    "from langchain_core.messages import SystemMessage, HumanMessage, AIMessage\n",
    "from langchain_core.runnables import RunnableConfig\n",
    "from langchain_core.tools import tool\n",
    "from langchain_openai import ChatOpenAI\n",
    "from langgraph.checkpoint.memory import MemorySaver\n",
    "from langgraph.graph.state import CompiledStateGraph\n",
    "from langgraph.graph import StateGraph, MessagesState, START, END, add_messages\n",
    "from langgraph.prebuilt import ToolNode\n",
    "from tavily import TavilyClient\n",
    "from typing import Dict\n",
    "import dotenv_loader\n",
    "import os\n",
    "import mlflow\n",
    "from IPython.display import Image, display"
   ]
  },
  {
   "cell_type": "code",
   "execution_count": 5,
   "id": "c11acf4912eae1ad",
   "metadata": {
    "ExecuteTime": {
     "end_time": "2025-07-23T14:39:49.513626Z",
     "start_time": "2025-07-23T14:39:49.506366Z"
    }
   },
   "outputs": [
    {
     "name": "stdout",
     "output_type": "stream",
     "text": [
      "MLflow server not running. Proceeding without MLflow.\n"
     ]
    }
   ],
   "source": [
    "# MLFlow setup\n",
    "try:\n",
    "    mlflow.set_tracking_uri(os.getenv(\"MLFLOW_TRACKING_URI\",\n",
    "                                      \"http://127.0.0.1:5000\"))\n",
    "    mlflow.set_experiment(\"health_bot\")\n",
    "    mlflow.langchain.autolog()\n",
    "except:\n",
    "    print(\"MLflow server not running. Proceeding without MLflow.\")"
   ]
  },
  {
   "cell_type": "code",
   "execution_count": 6,
   "id": "5fbe5b15ed3a72fb",
   "metadata": {
    "ExecuteTime": {
     "end_time": "2025-07-23T14:39:49.534516Z",
     "start_time": "2025-07-23T14:39:49.531959Z"
    }
   },
   "outputs": [],
   "source": [
    "base_url = \"https://openai.vocareum.com/v1\"\n",
    "llm = ChatOpenAI(\n",
    "    model=\"gpt-4o-mini\",\n",
    "    temperature=0.2,\n",
    "    base_url=base_url\n",
    ")\n"
   ]
  },
  {
   "cell_type": "code",
   "execution_count": 7,
   "id": "9632b94c0aa4fe0b",
   "metadata": {
    "ExecuteTime": {
     "end_time": "2025-07-23T14:39:49.562333Z",
     "start_time": "2025-07-23T14:39:49.560239Z"
    }
   },
   "outputs": [],
   "source": [
    "class State(MessagesState):\n",
    "    user_question: str\n",
    "    summary: str\n",
    "    comprehension_question: str\n",
    "    quiz_answer: str\n",
    "    quiz_choice: str\n",
    "    new_topic_choice: str"
   ]
  },
  {
   "cell_type": "code",
   "execution_count": 8,
   "id": "203ce0c301a8c1a8",
   "metadata": {
    "ExecuteTime": {
     "end_time": "2025-07-23T14:39:49.572466Z",
     "start_time": "2025-07-23T14:39:49.570282Z"
    }
   },
   "outputs": [],
   "source": [
    "def entry_point(state: State):\n",
    "    # Starting node\n",
    "\n",
    "    system_message = SystemMessage(\n",
    "        \"You are a health bot. You are a helpful and reliable assistant\"\n",
    "        \" that answers questions about health.\"\n",
    "        \"You prefer to use web search to find information. When receiving \"\n",
    "        \"a question, use web search to find top web search results\"\n",
    "        \"You do not accept questions about anything else than health\"\n",
    "    )\n",
    "\n",
    "    human_message = HumanMessage(state[\"user_question\"])\n",
    "    messages = add_messages(system_message, human_message)\n",
    "\n",
    "    return {\"messages\": messages}"
   ]
  },
  {
   "cell_type": "code",
   "execution_count": 9,
   "id": "73181fb89bc3e2e1",
   "metadata": {
    "ExecuteTime": {
     "end_time": "2025-07-23T14:39:49.582107Z",
     "start_time": "2025-07-23T14:39:49.580384Z"
    }
   },
   "outputs": [],
   "source": [
    "def agent(state: State):\n",
    "    # Research agent\n",
    "\n",
    "    ai_message = llm.invoke(state[\"messages\"])\n",
    "    return {\"messages\": [ai_message]}"
   ]
  },
  {
   "cell_type": "code",
   "execution_count": 10,
   "id": "7dec80d33ca26e60",
   "metadata": {
    "ExecuteTime": {
     "end_time": "2025-07-23T14:39:49.592233Z",
     "start_time": "2025-07-23T14:39:49.590403Z"
    }
   },
   "outputs": [],
   "source": [
    "def route_to_tool(state: State):\n",
    "    # Routes to web search tool\n",
    "\n",
    "    last_message = state[\"messages\"][-1]\n",
    "\n",
    "    if last_message.tool_calls:\n",
    "        return \"web_search\"\n",
    "    else:\n",
    "        return END"
   ]
  },
  {
   "cell_type": "code",
   "execution_count": 11,
   "id": "3f8fc530db15eca8",
   "metadata": {
    "ExecuteTime": {
     "end_time": "2025-07-23T14:39:49.604638Z",
     "start_time": "2025-07-23T14:39:49.599877Z"
    }
   },
   "outputs": [],
   "source": [
    "@tool\n",
    "def web_search(query: str) -> Dict:\n",
    "    \"\"\"\n",
    "     Return top web search results for a given search query\n",
    "     \"\"\"\n",
    "\n",
    "    tavily_client = TavilyClient(api_key=os.getenv(\"TAVILY_API_KEY\"))\n",
    "    response = tavily_client.search(query)\n",
    "    return response"
   ]
  },
  {
   "cell_type": "code",
   "execution_count": 12,
   "id": "f95f6c5ed4ba5f92",
   "metadata": {
    "ExecuteTime": {
     "end_time": "2025-07-23T14:39:49.621196Z",
     "start_time": "2025-07-23T14:39:49.618834Z"
    }
   },
   "outputs": [],
   "source": [
    "def summarize(state: State):\n",
    "    # Summarize web search\n",
    "\n",
    "    system_message = SystemMessage(\n",
    "        \"Summarize the search results from the web search tool into a \"\n",
    "        \"coherent,\"\n",
    "        \"helpful response, spanning 3-4 paragraphs.\"\n",
    "        \"Cite your sources.\"\n",
    "    )\n",
    "    ai_message = llm.invoke(state[\"messages\"] + [system_message])\n",
    "    return {\"messages\": [ai_message], \"summary\": ai_message.content}"
   ]
  },
  {
   "cell_type": "code",
   "execution_count": 13,
   "id": "7eb96745c6f80def",
   "metadata": {
    "ExecuteTime": {
     "end_time": "2025-07-23T14:39:49.639968Z",
     "start_time": "2025-07-23T14:39:49.638185Z"
    }
   },
   "outputs": [],
   "source": [
    "def ask_for_quiz(state: State):\n",
    "    # This is a breakpoint to ask the user for input. Doesn't do anything else.\n",
    "\n",
    "    return state"
   ]
  },
  {
   "cell_type": "code",
   "execution_count": 14,
   "id": "c4b0ee9bee55b84f",
   "metadata": {
    "ExecuteTime": {
     "end_time": "2025-07-23T14:39:49.658829Z",
     "start_time": "2025-07-23T14:39:49.656272Z"
    }
   },
   "outputs": [],
   "source": [
    "def route_to_quiz(state: State):\n",
    "    # Checks the user's decision from the state and routes accordingly.\n",
    "\n",
    "    if state.get(\"quiz_choice\") == \"yes\":\n",
    "        return \"generate_quiz\"\n",
    "    else:\n",
    "        # If they said no, ask if they want a new topic\n",
    "        return \"ask_for_new_topic\""
   ]
  },
  {
   "cell_type": "code",
   "execution_count": 15,
   "id": "2fdfa293c1c690a3",
   "metadata": {
    "ExecuteTime": {
     "end_time": "2025-07-23T14:39:49.678710Z",
     "start_time": "2025-07-23T14:39:49.676505Z"
    }
   },
   "outputs": [],
   "source": [
    "def ask_for_new_topic(state: State):\n",
    "    # This is a breakpoint to ask the user for input. Doesn't do anything else.\n",
    "\n",
    "    return state"
   ]
  },
  {
   "cell_type": "code",
   "execution_count": 16,
   "id": "c2b9bf821f48667f",
   "metadata": {
    "ExecuteTime": {
     "end_time": "2025-07-23T14:39:49.696619Z",
     "start_time": "2025-07-23T14:39:49.694377Z"
    }
   },
   "outputs": [],
   "source": [
    "def generate_quiz(state: State):\n",
    "    system_message = SystemMessage(\n",
    "        \"Generate a comprehension quiz based on the summary from the web \"\n",
    "        \"search tool.\"\n",
    "        \"Only generate one single-sentence question and no options for \"\n",
    "        \"answers, as the user is supposed to provide a free text answer.\"\n",
    "        \"Do not generate the correct answer yet.\"\n",
    "        f'Use only this information as source for your question: '\n",
    "        f'{state[\"summary\"]}'\n",
    "    )\n",
    "    ai_message = llm.invoke(state[\"messages\"] + [system_message])\n",
    "\n",
    "    return {\"messages\": [ai_message],\n",
    "            \"comprehension_question\": ai_message.content}"
   ]
  },
  {
   "cell_type": "code",
   "execution_count": 17,
   "id": "2c04495929450464",
   "metadata": {
    "ExecuteTime": {
     "end_time": "2025-07-23T14:39:49.711901Z",
     "start_time": "2025-07-23T14:39:49.709241Z"
    }
   },
   "outputs": [],
   "source": [
    "def grade_quiz(state: State):\n",
    "    system_message = SystemMessage(\n",
    "        \"You are grading a comprehension quiz about health\"\n",
    "        \"Don't grade too hard - accept short answers from the user\"\n",
    "        f\"The question was: {state['comprehension_question']}\"\n",
    "        f\"The user's answer is: {state['quiz_answer']}\"\n",
    "        \"Grade the user's answer with a grade from A (best) to F (failed)\"\n",
    "        f\"For your grade, use only information from this summary of web \"\n",
    "        f\"search results on the topic:{state['summary']}\"\n",
    "        \"Provide a short explanation for your grade, and a citation from the \"\n",
    "        \"summaries provided above\"\n",
    "    )\n",
    "\n",
    "    # Don't need the full message history here as we're only grading\n",
    "    ai_message = llm.invoke([system_message])\n",
    "\n",
    "    return {\"messages\": [ai_message]}"
   ]
  },
  {
   "cell_type": "code",
   "execution_count": 18,
   "id": "fb39c1462c97bdc8",
   "metadata": {
    "ExecuteTime": {
     "end_time": "2025-07-23T14:39:49.741714Z",
     "start_time": "2025-07-23T14:39:49.733047Z"
    }
   },
   "outputs": [
    {
     "data": {
      "text/plain": [
       "<langgraph.graph.state.StateGraph at 0x306fdba50>"
      ]
     },
     "execution_count": 18,
     "metadata": {},
     "output_type": "execute_result"
    }
   ],
   "source": [
    "# bind tools\n",
    "llm = llm.bind_tools([web_search])\n",
    "\n",
    "# build graph\n",
    "workflow = StateGraph(State)\n",
    "workflow.add_node(\"entry_point\", entry_point)\n",
    "workflow.add_node(\"agent\", agent)\n",
    "workflow.add_node(\"web_search\", ToolNode([web_search]))\n",
    "workflow.add_node(\"summarize\", summarize)\n",
    "workflow.add_node(\"generate_quiz\", generate_quiz)\n",
    "workflow.add_node(\"grade_quiz\", grade_quiz)\n",
    "workflow.add_node(\"ask_for_quiz\", ask_for_quiz)\n",
    "workflow.add_node(\"ask_for_new_topic\", ask_for_new_topic)\n",
    "\n",
    "# Start\n",
    "workflow.add_edge(START, \"entry_point\")\n",
    "workflow.add_edge(\"entry_point\", \"agent\")\n",
    "\n",
    "# Routes to web search tool\n",
    "workflow.add_conditional_edges(\n",
    "    source=\"agent\",\n",
    "    path=route_to_tool,\n",
    "    path_map=[\"web_search\", END]\n",
    ")\n",
    "\n",
    "workflow.add_edge(\"web_search\", \"summarize\")\n",
    "\n",
    "# At this point, we interrupt and ask if they want a quiz\n",
    "workflow.add_edge(\"summarize\", \"ask_for_quiz\")\n",
    "\n",
    "# Check if they wanted a quiz and route\n",
    "workflow.add_conditional_edges(\n",
    "    source=\"ask_for_quiz\",\n",
    "    path=route_to_quiz,\n",
    "    path_map={\n",
    "        \"generate_quiz\": \"generate_quiz\",\n",
    "        \"ask_for_new_topic\": \"ask_for_new_topic\"\n",
    "    }\n",
    ")\n",
    "\n",
    "workflow.add_edge(\"generate_quiz\", \"grade_quiz\")\n",
    "\n",
    "# At this point, we interrupt and ask if they want a new topic\n",
    "workflow.add_edge(\"grade_quiz\", \"ask_for_new_topic\")\n",
    "workflow.add_edge(\"ask_for_new_topic\", END)"
   ]
  },
  {
   "cell_type": "code",
   "execution_count": 19,
   "id": "922b4bd04ec47405",
   "metadata": {
    "ExecuteTime": {
     "end_time": "2025-07-23T14:39:49.790166Z",
     "start_time": "2025-07-23T14:39:49.784426Z"
    }
   },
   "outputs": [],
   "source": [
    "memory = MemorySaver()\n",
    "graph = workflow.compile(\n",
    "    interrupt_before=[\"ask_for_quiz\", \"ask_for_new_topic\", \"grade_quiz\"],\n",
    "    checkpointer=memory)"
   ]
  },
  {
   "cell_type": "code",
   "execution_count": 20,
   "id": "b3377763e055f103",
   "metadata": {
    "ExecuteTime": {
     "end_time": "2025-07-23T14:39:50.260004Z",
     "start_time": "2025-07-23T14:39:49.812089Z"
    }
   },
   "outputs": [
    {
     "data": {
      "image/png": "[encoded data removed]",
      "text/plain": [
       "<IPython.core.display.Image object>"
      ]
     },
     "metadata": {},
     "output_type": "display_data"
    }
   ],
   "source": [
    "display(\n",
    "    Image(\n",
    "        graph.get_graph().draw_mermaid_png()\n",
    "    )\n",
    ")"
   ]
  },
  {
   "cell_type": "code",
   "execution_count": 21,
   "id": "291f73aab2052f52",
   "metadata": {
    "ExecuteTime": {
     "end_time": "2025-07-23T14:40:03.283890Z",
     "start_time": "2025-07-23T14:40:03.278326Z"
    }
   },
   "outputs": [],
   "source": [
    "def hitl_health_bot(graph: CompiledStateGraph):\n",
    "    # We'll start a new thread for each run of the graph\n",
    "    thread_id = 0\n",
    "\n",
    "    # Outer loop, each run is one separate conversation\n",
    "    while True:\n",
    "\n",
    "        thread_id += 1\n",
    "        print(f\"\\n--- Starting new session (session ID: {thread_id}) ---\\n\")\n",
    "\n",
    "        # Get a topic from the user and make sure they've entered something\n",
    "        user_question = input(\"What topic would you like to learn about?\\n\"\n",
    "                              \"> \")\n",
    "        if not user_question.strip():\n",
    "            print(\"OK, see you later then!\")\n",
    "            break\n",
    "\n",
    "        # Not a must but for keeping types consistent\n",
    "        config = RunnableConfig()\n",
    "        config[\"configurable\"] = {\"thread_id\": thread_id}\n",
    "\n",
    "        # Need to keep track of printed messages to avoid duplicates\n",
    "        last_printed_message_id = None\n",
    "\n",
    "        # This holds the input for the graph\n",
    "        current_input = {\"user_question\": user_question}\n",
    "\n",
    "        # This is the inner loop, representing one run of the graph\n",
    "        # Basically, this keeps calling graph.stream and handles interrupts\n",
    "        while True:\n",
    "            for event in graph.stream(input=current_input,\n",
    "                                      config=config,\n",
    "                                      stream_mode=\"values\"):\n",
    "                if messages := event.get(\"messages\", []):\n",
    "                    message = messages[-1]\n",
    "\n",
    "                    # Print the message only if it hasn't been yet\n",
    "                    if (message.id != last_printed_message_id and\n",
    "                            # Only print AI messages\n",
    "                            message.type == \"ai\" and\n",
    "                            message.content):\n",
    "                        message.pretty_print()\n",
    "                        last_printed_message_id = message.id\n",
    "\n",
    "            # As soon as an interrupt happens, check which node is next\n",
    "            state = graph.get_state(config)\n",
    "            next_node = state.next[0] if state.next else None\n",
    "\n",
    "            # Check if we've reached the end\n",
    "            if not state.next or state.next[0] == END:\n",
    "                # print(\"\\n--- See you later! ---\\n\")\n",
    "                break\n",
    "\n",
    "            # Ask if the user wants a quiz\n",
    "            if next_node == \"ask_for_quiz\":\n",
    "                # Start the quiz loop if the user wants to\n",
    "                quiz_requested = input(\"\\nWould you like to do a quiz? (y/n)\\n\"\n",
    "                                       \"> \")\n",
    "                choice = \"yes\" if (quiz_requested.lower().strip()\n",
    "                                   in [\"y\", \"yes\"]) else \"no\"\n",
    "\n",
    "                # Update the graph state so the router knows what to do\n",
    "                graph.update_state(config, {\"quiz_choice\": choice})\n",
    "\n",
    "            # Capture the answer to the quiz\n",
    "            elif next_node == \"grade_quiz\":\n",
    "                # Get the user's answer and make sure it's long enough\n",
    "                quiz_answer = input(\"Please state your answer:\\n\"\n",
    "                                    \"> \")\n",
    "                while not quiz_answer.strip() or len(quiz_answer) < 5:\n",
    "                    quiz_answer = input(\n",
    "                        \"It looks like you haven't entered an answer. Please \"\n",
    "                        \"try again.\\n\"\n",
    "                        \"> \")\n",
    "\n",
    "                graph.update_state(config, {\"quiz_answer\": quiz_answer})\n",
    "\n",
    "            # Ask the user if they want a new topic\n",
    "            elif next_node == \"ask_for_new_topic\":\n",
    "                new_topic_choice = input(\"\\nResearch another topic? (y/n)\\n> \")\n",
    "                choice = \"yes\" if new_topic_choice.lower().strip() in [\n",
    "                    \"y\", \"yes\"] else \"no\"\n",
    "                graph.update_state(config, {\"new_topic_choice\": choice})\n",
    "\n",
    "            # After this, the inner loop will run again and continue the stream\n",
    "            # Hence we need to make sure the graph's input will be empty\n",
    "            current_input = None\n",
    "\n",
    "        # If the user answered they don't want a new topic, we'll end the\n",
    "        # outer loop and the program stops\n",
    "        final_state = graph.get_state(config)\n",
    "        if final_state.values.get(\"new_topic_choice\") == \"no\":\n",
    "            print(\"Got it, goodbye!\")\n",
    "            break"
   ]
  },
  {
   "cell_type": "code",
   "execution_count": null,
   "id": "b2a1a39ac8e5ed6",
   "metadata": {
    "ExecuteTime": {
     "end_time": "2025-07-23T14:42:56.865042Z",
     "start_time": "2025-07-23T14:40:19.586914Z"
    }
   },
   "outputs": [
    {
     "name": "stdout",
     "output_type": "stream",
     "text": [
      "\n",
      "--- Starting new session (session ID: 1) ---\n",
      "\n"
     ]
    },
    {
     "name": "stdin",
     "output_type": "stream",
     "text": [
      "What topic would you like to learn about?\n",
      ">  hmm don't really know... \n"
     ]
    },
    {
     "name": "stdout",
     "output_type": "stream",
     "text": [
      "==================================\u001b[1m Ai Message \u001b[0m==================================\n",
      "\n",
      "It seems like you might have a question about health. Please feel free to ask, and I'll do my best to assist you!\n",
      "\n",
      "--- Starting new session (session ID: 2) ---\n",
      "\n"
     ]
    },
    {
     "name": "stdin",
     "output_type": "stream",
     "text": [
      "What topic would you like to learn about?\n",
      ">  i think cats are really cool! \n"
     ]
    },
    {
     "name": "stdout",
     "output_type": "stream",
     "text": [
      "==================================\u001b[1m Ai Message \u001b[0m==================================\n",
      "\n",
      "I'm here to help with health-related questions. If you have any inquiries about health, feel free to ask!\n",
      "\n",
      "--- Starting new session (session ID: 3) ---\n",
      "\n"
     ]
    },
    {
     "name": "stdin",
     "output_type": "stream",
     "text": [
      "What topic would you like to learn about?\n",
      ">  ok, how about back pain then? \n"
     ]
    },
    {
     "name": "stdout",
     "output_type": "stream",
     "text": [
      "==================================\u001b[1m Ai Message \u001b[0m==================================\n",
      "\n",
      "Back pain is a prevalent issue that affects many individuals, often leading them to seek medical attention or take time off work. It can arise from various causes, including strains, spine disorders, or conditions affecting organs in the pelvis or abdomen. Common symptoms of back pain may include discomfort in the lower back, stiffness, and sometimes radiating pain to other areas. Factors such as age, physical activity level, and underlying health conditions can influence the likelihood of experiencing back pain (Cleveland Clinic).\n",
      "\n",
      "The treatment for back pain typically involves a combination of medications, physical therapy, and lifestyle modifications. Over-the-counter pain relievers, such as ibuprofen or acetaminophen, are often recommended for mild to moderate pain. In more severe cases, healthcare providers may prescribe stronger medications or suggest therapies like chiropractic care, acupuncture, or massage. It's also essential to engage in regular physical activity and maintain a healthy weight to help prevent back pain (Mayo Clinic; NIAMS).\n",
      "\n",
      "Preventive measures can significantly reduce the risk of developing back pain. These include practicing good posture, using ergonomic furniture, and avoiding heavy lifting or improper lifting techniques. Strengthening the core muscles through exercises can also provide better support for the spine. While not all causes of back pain are preventable, taking proactive steps can help mitigate the risk (Cleveland Clinic).\n",
      "\n",
      "If back pain persists or worsens, it is crucial to consult a healthcare professional for a thorough evaluation and tailored treatment plan. In some cases, more serious underlying conditions may need to be addressed, and a pain management specialist can assist in exploring various pain relief options (Made for This Moment). For more detailed information, you can refer to sources such as the Mayo Clinic and Cleveland Clinic.\n"
     ]
    },
    {
     "name": "stdin",
     "output_type": "stream",
     "text": [
      "\n",
      "Would you like to do a quiz? (y/n)\n",
      ">  y\n"
     ]
    },
    {
     "name": "stdout",
     "output_type": "stream",
     "text": [
      "==================================\u001b[1m Ai Message \u001b[0m==================================\n",
      "\n",
      "What are some common causes and symptoms of back pain?\n"
     ]
    },
    {
     "name": "stdin",
     "output_type": "stream",
     "text": [
      "Please state your answer:\n",
      ">  bad posture and being too fat. and symptoms, well - having pain? \n"
     ]
    }
   ],
   "source": [
    " # Run the loop\n",
    " hitl_health_bot(graph=graph)"
   ]
  },
  {
   "cell_type": "code",
   "execution_count": null,
   "id": "08a283c1-9499-499b-b6ac-86aaeeeed578",
   "metadata": {},
   "outputs": [],
   "source": []
  }
 ],
 "metadata": {
  "kernelspec": {
   "display_name": "Python 3 (ipykernel)",
   "language": "python",
   "name": "python3"
  },
  "language_info": {
   "codemirror_mode": {
    "name": "ipython",
    "version": 3
   },
   "file_extension": ".py",
   "mimetype": "text/x-python",
   "name": "python",
   "nbconvert_exporter": "python",
   "pygments_lexer": "ipython3",
   "version": "3.11.12"
  }
 },
 "nbformat": 4,
 "nbformat_minor": 5
}
